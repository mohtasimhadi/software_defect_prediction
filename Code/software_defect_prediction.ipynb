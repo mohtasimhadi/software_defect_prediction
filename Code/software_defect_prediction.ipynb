{
  "metadata": {
    "kernelspec": {
      "language": "python",
      "display_name": "Python 3",
      "name": "python3"
    },
    "language_info": {
      "name": "python",
      "version": "3.7.12",
      "mimetype": "text/x-python",
      "codemirror_mode": {
        "name": "ipython",
        "version": 3
      },
      "pygments_lexer": "ipython3",
      "nbconvert_exporter": "python",
      "file_extension": ".py"
    },
    "colab": {
      "provenance": []
    },
    "gpuClass": "standard"
  },
  "nbformat_minor": 0,
  "nbformat": 4,
  "cells": [
    {
      "cell_type": "markdown",
      "source": [
        "## Dataset processing"
      ],
      "metadata": {
        "id": "DxF63W1nt7Ag"
      }
    },
    {
      "cell_type": "code",
      "source": [
        "#Software Defect Prediction \n",
        "import numpy as np\n",
        "import pandas as pd\n",
        "from sklearn.ensemble import RandomForestClassifier\n",
        "from sklearn.model_selection import train_test_split\n",
        "from sklearn.metrics import recall_score\n",
        "from imblearn.over_sampling import SMOTE\n",
        "\n",
        "#add dataset normalization and feature selection function\n",
        "\n",
        "def data_preprocessor(datafilename_as_csv_inquotes):\n",
        "    original_data = pd.read_csv(datafilename_as_csv_inquotes)\n",
        "    original_data.isnull().values.any() #Gives false ie:No null value in dataset\n",
        "    original_data = original_data.fillna(value=False)\n",
        "    original_X = pd.DataFrame(original_data.drop(['defects'],axis=1))\n",
        "    original_Y = original_data['defects']\n",
        "    original_Y = pd.DataFrame(original_Y)\n",
        "\n",
        "\n",
        "    x_train1, x_test, y_train1, y_test= train_test_split(original_X, original_Y, test_size = .1,\n",
        "                                                              random_state=12)\n",
        "    \n",
        "    #now we resample, and from that we take training and validation sets\n",
        "    \n",
        "    sm = SMOTE(random_state=12, sampling_strategy = 1.0)\n",
        "    x, y = sm.fit_resample(x_train1, y_train1)\n",
        "    y_train2 = pd.DataFrame(y, columns=['defects'])\n",
        "    x_train2 = pd.DataFrame(x, columns=original_X.columns)\n",
        "    \n",
        "    \n",
        "    x_train, x_val, y_train, y_val= train_test_split(x_train2, y_train2, test_size = .1,\n",
        "                                                              random_state=12)\n",
        "    \n",
        "    combined_training_data = x_train.copy()\n",
        "    combined_training_data['defects'] = y_train\n",
        "    \n",
        "    \n",
        "    \n",
        "    import seaborn as sns\n",
        "    corr = combined_training_data.corr()\n",
        "    sns.heatmap(corr, xticklabels=corr.columns,yticklabels=corr.columns)\n",
        "    \n",
        "    \n",
        "    \n",
        "    return original_data, original_X, original_Y,combined_training_data,x_train1,x_train2,x_train,x_test,x_val,y_train1,y_train2,y_train,y_test,y_val "
      ],
      "metadata": {
        "_uuid": "8f2839f25d086af736a60e9eeb907d3b93b6e0e5",
        "_cell_guid": "b1076dfc-b9ad-4769-8c92-a6c4dae69d19",
        "execution": {
          "iopub.status.busy": "2022-12-25T09:54:12.172427Z",
          "iopub.execute_input": "2022-12-25T09:54:12.173736Z",
          "iopub.status.idle": "2022-12-25T09:54:12.190206Z",
          "shell.execute_reply.started": "2022-12-25T09:54:12.173671Z",
          "shell.execute_reply": "2022-12-25T09:54:12.189139Z"
        },
        "trusted": true,
        "id": "EKHwn2xzt7Ah"
      },
      "execution_count": 1,
      "outputs": []
    },
    {
      "cell_type": "markdown",
      "source": [
        "## Model (CNN, SVM, Decision Tree, XGBoost, Naive Bayes, ANN)"
      ],
      "metadata": {
        "id": "QjJGFV2bt7Aj"
      }
    },
    {
      "cell_type": "code",
      "source": [
        "import pandas as pd\n",
        "\n",
        "def NN(original_data, original_X, original_Y,combined_training_data,x_train1,x_train2,x_train,x_test,x_val,y_train1,y_train2,y_train,y_test,y_val):   \n",
        "    # Importing the Keras libraries and packages\n",
        "    import keras\n",
        "    from keras.models import Sequential\n",
        "    from keras.layers import Dense\n",
        "    \n",
        "    # Initialising the ANN\n",
        "    classifier = Sequential()\n",
        "    \n",
        "    # Adding the input layer and the first hidden layer\n",
        "    classifier.add(Dense(units = 15 , activation = 'relu', input_dim = len(original_X.columns)))\n",
        "    # Adding the second hidden layer\n",
        "    classifier.add(Dense(units = 8, activation = 'relu'))\n",
        "    classifier.add(Dense(units = 5, activation = 'relu'))\n",
        "    # Adding the output layer\n",
        "    classifier.add(Dense(units = 1, activation = 'sigmoid'))\n",
        "    # Compiling the ANN\n",
        "    \n",
        "    classifier.compile(optimizer = 'adam', loss = 'binary_crossentropy', metrics = ['accuracy'])\n",
        "    # Fitting the ANN to the Training set\n",
        "    classifier.fit(x_train, y_train, batch_size = 10, epochs = 50)\n",
        "    \n",
        "    #Making the predictions and evaluating the model\n",
        "    # Predicting the Test set results\n",
        "    y_pred = classifier.predict(x_val)\n",
        "    y_pred = (y_pred > 0.5)\n",
        "    y_pred = pd.DataFrame(y_pred, columns=['defects'])\n",
        "    # Making the Confusion Matrix\n",
        "    from sklearn.metrics import confusion_matrix\n",
        "    cm = confusion_matrix(y_val, y_pred)\n",
        "    from sklearn.metrics import accuracy_score\n",
        "    accuracy_score(y_val, y_pred)\n",
        "    \n",
        "    return classifier\n",
        "\n",
        "    \n",
        "def random_forest(original_data, original_X, original_Y,combined_training_data,x_train1,x_train2,x_train,x_test,x_val,y_train1,y_train2,y_train,y_test,y_val):\n",
        "    from sklearn.ensemble import RandomForestClassifier\n",
        "    clf = RandomForestClassifier(n_estimators=100, max_depth=5,random_state=0)\n",
        "    clf.fit(x_train, y_train.values.ravel())\n",
        "    return clf\n",
        "\n",
        "def svm(original_data, original_X, original_Y,combined_training_data,x_train1,x_train2,x_train,x_test,x_val,y_train1,y_train2,y_train,y_test,y_val):\n",
        "    from sklearn.svm import SVC\n",
        "    clf = SVC(gamma='auto')\n",
        "    clf.fit(x_train, y_train.values.ravel())\n",
        "    return clf\n",
        "\n",
        "def XGBoost(original_data, original_X, original_Y,combined_training_data,x_train1,x_train2,x_train,x_test,x_val,y_train1,y_train2,y_train,y_test,y_val):\n",
        "    from xgboost import XGBClassifier\n",
        "    clf = xgb = XGBClassifier(\n",
        "    max_depth=9,\n",
        "    learning_rate=0.01,\n",
        "    n_estimators=500,\n",
        "    reg_alpha=1.1,\n",
        "    colsample_bytree = 0.9, \n",
        "    subsample = 0.9,\n",
        "    n_jobs = 5\n",
        ")\n",
        "    clf.fit(x_train, y_train.values.ravel(), eval_set= [(x_val, y_val.values.ravel())], early_stopping_rounds=50)\n",
        "    return clf\n",
        "    \n",
        "\n",
        "def cnn(original_data, original_X, original_Y,combined_training_data,x_train1,x_train2,x_train,x_test,x_val,y_train1,y_train2,y_train,y_test,y_val):\n",
        "    from keras.models import Sequential\n",
        "    from keras.layers import Dense,Dropout,Conv2D,Conv1D,Flatten,MaxPool2D\n",
        "    #create model\n",
        "    \n",
        "    x_train_matrix = x_train.values\n",
        "    x_val_matrix = x_val.values\n",
        "    y_train_matrix = y_train.values\n",
        "    y_val_matrix = y_val.values\n",
        "    \n",
        "    ytrainseries = y_train['defects']\n",
        "    yvalseries = y_val['defects']\n",
        "\n",
        "    img_rows, img_cols = 1,len(original_X.columns)\n",
        "    \n",
        "    x_train1 = x_train_matrix.reshape(x_train_matrix.shape[0], img_rows, img_cols, 1)\n",
        "    x_val1 = x_val_matrix.reshape(x_val_matrix.shape[0], img_rows, img_cols, 1)\n",
        "    input_shape = (img_rows, img_cols, 1)\n",
        "\n",
        "    model = Sequential()\n",
        "    #add model layers\n",
        "    #conv layers\n",
        "    model.add(Conv2D(64, kernel_size=1, activation='relu',input_shape=input_shape))\n",
        "    model.add(Conv2D(32, kernel_size=1, activation='relu'))\n",
        "    model.add(Conv2D(16, kernel_size=1, activation='relu'))\n",
        "    # desne layer\n",
        "    model.add(Flatten())\n",
        "    model.add(Dense(8, activation='relu'))\n",
        "    model.add(Dense(1, activation='sigmoid'))\n",
        "    #compile model using accuracy to measure model performance\n",
        "    model.compile(optimizer='adam', loss='binary_crossentropy', metrics=['accuracy'])\n",
        "    #train the model\n",
        "    model.fit(x_train1, y_train_matrix, epochs=50)    \n",
        "    y_pred = model.predict(x_val1)>0.5\n",
        "    y_pred_df = pd.DataFrame(y_pred)\n",
        "    \n",
        "    return model"
      ],
      "metadata": {
        "execution": {
          "iopub.status.busy": "2022-12-25T09:54:13.047035Z",
          "iopub.execute_input": "2022-12-25T09:54:13.047504Z",
          "iopub.status.idle": "2022-12-25T09:54:13.096796Z",
          "shell.execute_reply.started": "2022-12-25T09:54:13.047465Z",
          "shell.execute_reply": "2022-12-25T09:54:13.095251Z"
        },
        "trusted": true,
        "id": "5ujVkZmKt7Ak"
      },
      "execution_count": 24,
      "outputs": []
    },
    {
      "cell_type": "markdown",
      "source": [
        "## Evaluation"
      ],
      "metadata": {
        "id": "Y8-q3e7Mt7Ao"
      }
    },
    {
      "cell_type": "code",
      "source": [
        "import pandas as pd\n",
        "\n",
        "data = '/content/data/cm1.csv'\n",
        "original_data , original_X, original_Y,combined_training_data,x_train1,x_train2,x_train,x_test,x_val,y_train1,y_train2,y_train,y_test,y_val = data_preprocessor(data)\n",
        "all_data = [original_data, original_X, original_Y,combined_training_data,x_train1,x_train2,x_train,x_test,x_val,y_train1,y_train2,y_train,y_test,y_val]"
      ],
      "metadata": {
        "colab": {
          "base_uri": "https://localhost:8080/",
          "height": 363
        },
        "id": "2C0G35a_1fnW",
        "outputId": "e91454dd-f1c7-4cee-e64c-1427b63207df"
      },
      "execution_count": 47,
      "outputs": [
        {
          "output_type": "display_data",
          "data": {
            "text/plain": [
              "<Figure size 432x288 with 2 Axes>"
            ],
            "image/png": "[encoded data removed]"
          },
          "metadata": {
            "needs_background": "light"
          }
        }
      ]
    },
    {
      "cell_type": "code",
      "source": [
        "from sklearn.metrics import *\n",
        "\n",
        "def print_accuracy(model):\n",
        "    if (model == nn_clf):\n",
        "        y_pred_on_val = model.predict(x_val)>0.5\n",
        "        y_pred_on_test = model.predict(x_test)>0.5\n",
        "\n",
        "    elif (model == cnn_clf):\n",
        "        x_val_matrix = x_val.values\n",
        "        x_val1 = x_val_matrix.reshape(x_val_matrix.shape[0], 1, len(x_val.columns), 1)\n",
        "        y_pred_on_val = model.predict(x_val1)>0.5\n",
        "        x_test_matrix = x_test.values\n",
        "        x_test1 = x_test_matrix.reshape(x_test_matrix.shape[0], 1, len(x_test.columns), 1)\n",
        "        y_pred_on_test = model.predict(x_test1)>0.5\n",
        "    else:\n",
        "        y_pred_on_val = model.predict(x_val)\n",
        "        y_pred_on_test = model.predict(x_test)\n",
        "        \n",
        "    print('******', str(model), '******')   \n",
        "    print('<Validation Set>')\n",
        "    print('Accuracy:',balanced_accuracy_score(y_val,y_pred_on_val))\n",
        "    print('Avg Precision:', average_precision_score(y_val,y_pred_on_val))\n",
        "    print('f1_score:', f1_score(y_val,y_pred_on_val,average='weighted',labels=np.unique(y_pred_on_val)))\n",
        "    print('Precision:', precision_score(y_val,y_pred_on_val, labels=np.unique(y_pred_on_val)))\n",
        "    print('Recall:', recall_score(y_val, y_pred_on_val,labels=np.unique(y_pred_on_val)))\n",
        "    print('ROC_AUC:',roc_auc_score(y_val,y_pred_on_val))\n",
        "    print(\"\\n\\n\")\n",
        "    # print('<Test Set>')\n",
        "    # print('Accuracy:',balanced_accuracy_score(y_test,y_pred_on_test))\n",
        "    # print('Avg Precision:', average_precision_score(y_test,y_pred_on_test))\n",
        "    # print('f1_score:', f1_score(y_test,y_pred_on_test, average='weighted',labels=np.unique(y_pred_on_test)))\n",
        "    # print('Precision:', precision_score(y_test,y_pred_on_test,zero_division=1))\n",
        "    # print('Recall:', recall_score(y_test, y_pred_on_test))\n",
        "    # print('ROC_AUC:',roc_auc_score(y_test,y_pred_on_test))\n",
        "    y_pred_on_val_df = pd.DataFrame(y_pred_on_val, columns=['defects1'])\n",
        "    y_pred_on_test_df = pd.DataFrame(y_pred_on_test, columns=['defects1'])\n",
        "    val_result = pd.concat([y_val['defects'].reset_index(drop=True), y_pred_on_val_df['defects1']],axis=1)\n",
        "    val_result = val_result.rename(columns={'defects':'val_actual', 'defects1':'val_predict'})\n",
        "    test_result = pd.concat([y_test['defects'].reset_index(drop=True),y_pred_on_test_df['defects1']],axis=1)\n",
        "    test_result = test_result.rename(columns={'defects':'test_actual','defects1':'test_predict'})\n",
        "    return val_result, test_result"
      ],
      "metadata": {
        "id": "rVVVO5zF1lw7"
      },
      "execution_count": 41,
      "outputs": []
    },
    {
      "cell_type": "code",
      "source": [
        "# model evaluation calculate and score\n",
        "from sklearn.metrics import accuracy_score, recall_score, precision_score, roc_auc_score,  mean_squared_error\n",
        "# model evaluation \n",
        "from sklearn.metrics import classification_report, confusion_matrix\n",
        "\n",
        "# metrics method\n",
        "def metrics_calculate(model_name, y_val, y_pred):\n",
        "    '''\n",
        "    0. basic metrics values ['accuracy', 'precision', 'recall', 'fpr', 'fnr', 'auc']\n",
        "    1. classification report\n",
        "    2. confusion matrix\n",
        "    '''\n",
        "    y_val = np.reshape(y_val, -1).astype(np.int32)\n",
        "    y_pred = np.where(np.reshape(y_pred, -1) > 0.5, 1, 0)\n",
        "    accuracy = accuracy_score(y_val, y_pred)\n",
        "    precision = precision_score(y_val, y_pred)\n",
        "    recall = recall_score(y_val, y_pred)\n",
        "\n",
        "    tn, fp, fn, tp = confusion_matrix(y_val, y_pred).ravel()\n",
        "    fpr = fp / (tn + fp)\n",
        "    fnr = fn / (tp + fn)\n",
        "    auc = roc_auc_score(y_val, y_pred)\n",
        "    # print('Model:%s Acc:%.8f Prec:%.8f Recall:%.8f FNR:%.8f FPR:%.8f AUC:%.8f' % (model_name, accuracy, precision, recall, fnr, fpr, auc))\n",
        "    print(model_name, 'classification report:\\n', classification_report(y_val, y_pred))\n",
        "    print(model_name, 'confusion_matrix:\\n', confusion_matrix(y_val, y_pred))\n",
        "    print('\\n%s FNR:%.8f FPR:%.8f\\n%s accuracy:%.8f' % (model_name, fnr, fpr, model_name, accuracy_score(y_pred,y_val)))"
      ],
      "metadata": {
        "id": "1U5hEHnnIWSx"
      },
      "execution_count": 42,
      "outputs": []
    },
    {
      "cell_type": "code",
      "source": [
        "def calculate_defect_identified(model,df_x, df_y):\n",
        "  if (model == nn_clf):\n",
        "    result = model.predict(df_x)>0.5\n",
        "  \n",
        "  elif(model == cnn_clf):\n",
        "    df_matrix = df_x.values\n",
        "    df_val1 = df_matrix.reshape(df_matrix.shape[0], 1, len(df_x.columns), 1)\n",
        "    result = model.predict(df_val1)>0.5\n",
        "\n",
        "  else:\n",
        "    result = model.predict(df_x)\n",
        "  \n",
        "\n",
        "  actual = list(df_y[\"defects\"])\n",
        "  result = list(result)\n",
        "  total_pos = df_y.value_counts()[1]\n",
        "  count = 0\n",
        "  \n",
        "  for i in range(len(actual)):\n",
        "    if(actual[i] == True):\n",
        "      if(actual[i] == result[i]):\n",
        "        count +=1\n",
        "\n",
        "\n",
        "  return (count / total_pos )"
      ],
      "metadata": {
        "id": "i7hRHdB0zvYr"
      },
      "execution_count": 43,
      "outputs": []
    },
    {
      "cell_type": "code",
      "source": [
        "full_dataset_x = pd.concat([x_train, x_val, x_test], axis=0)\n",
        "full_dataset_y = pd.concat([y_train, y_val, y_test], axis=0)\n",
        "\n",
        "data_name = \"CM1\"\n",
        "print(f\"Dataset name: {data_name}\")\n",
        "defect_cnt = full_dataset_y.value_counts()[1]\n",
        "total = len(full_dataset_y)\n",
        "density = defect_cnt / total\n",
        "print(f\"Defect count: {defect_cnt}\")\n",
        "print(f\"Total count: {total}\")\n",
        "print(f\"Density: {round(density*100, 2)}\")"
      ],
      "metadata": {
        "colab": {
          "base_uri": "https://localhost:8080/"
        },
        "id": "BcXX3e7FZoLf",
        "outputId": "82dc4c35-e1f5-40bf-f4a9-44b2124735a4"
      },
      "execution_count": 48,
      "outputs": [
        {
          "output_type": "stream",
          "name": "stdout",
          "text": [
            "Dataset name: CM1\n",
            "Defect count: 417\n",
            "Total count: 866\n",
            "Density: 48.15\n"
          ]
        }
      ]
    },
    {
      "cell_type": "markdown",
      "source": [
        "#### ANN result"
      ],
      "metadata": {
        "id": "My_MyHVyAxua"
      }
    },
    {
      "cell_type": "code",
      "source": [
        "nn_clf = NN(*all_data)\n",
        "nn_val_result, nn_test_result = print_accuracy(nn_clf)"
      ],
      "metadata": {
        "colab": {
          "base_uri": "https://localhost:8080/"
        },
        "id": "6RUB-yltA0RM",
        "outputId": "5bd0c51e-5a02-4743-a5ff-1c46e4326616"
      },
      "execution_count": 49,
      "outputs": [
        {
          "output_type": "stream",
          "name": "stdout",
          "text": [
            "Epoch 1/50\n",
            "74/74 [==============================] - 1s 2ms/step - loss: 510.3506 - accuracy: 0.5123\n",
            "Epoch 2/50\n",
            "74/74 [==============================] - 0s 2ms/step - loss: 0.6694 - accuracy: 0.4959\n",
            "Epoch 3/50\n",
            "74/74 [==============================] - 0s 2ms/step - loss: 0.6345 - accuracy: 0.4959\n",
            "Epoch 4/50\n",
            "74/74 [==============================] - 0s 2ms/step - loss: 0.6224 - accuracy: 0.4959\n",
            "Epoch 5/50\n",
            "74/74 [==============================] - 0s 2ms/step - loss: 0.6225 - accuracy: 0.5777\n",
            "Epoch 6/50\n",
            "74/74 [==============================] - 0s 2ms/step - loss: 0.6169 - accuracy: 0.6240\n",
            "Epoch 7/50\n",
            "74/74 [==============================] - 0s 2ms/step - loss: 0.6198 - accuracy: 0.6322\n",
            "Epoch 8/50\n",
            "74/74 [==============================] - 0s 2ms/step - loss: 0.6144 - accuracy: 0.6281\n",
            "Epoch 9/50\n",
            "74/74 [==============================] - 0s 2ms/step - loss: 0.6112 - accuracy: 0.6253\n",
            "Epoch 10/50\n",
            "74/74 [==============================] - 0s 2ms/step - loss: 0.6128 - accuracy: 0.6226\n",
            "Epoch 11/50\n",
            "74/74 [==============================] - 0s 2ms/step - loss: 0.6166 - accuracy: 0.6308\n",
            "Epoch 12/50\n",
            "74/74 [==============================] - 0s 2ms/step - loss: 0.9241 - accuracy: 0.6253\n",
            "Epoch 13/50\n",
            "74/74 [==============================] - 0s 2ms/step - loss: 0.6053 - accuracy: 0.6253\n",
            "Epoch 14/50\n",
            "74/74 [==============================] - 0s 2ms/step - loss: 0.6104 - accuracy: 0.6308\n",
            "Epoch 15/50\n",
            "74/74 [==============================] - 0s 2ms/step - loss: 1.1542 - accuracy: 0.6267\n",
            "Epoch 16/50\n",
            "74/74 [==============================] - 0s 2ms/step - loss: 0.6060 - accuracy: 0.6281\n",
            "Epoch 17/50\n",
            "74/74 [==============================] - 0s 2ms/step - loss: 0.6632 - accuracy: 0.6226\n",
            "Epoch 18/50\n",
            "74/74 [==============================] - 0s 2ms/step - loss: 0.6143 - accuracy: 0.6376\n",
            "Epoch 19/50\n",
            "74/74 [==============================] - 0s 2ms/step - loss: 0.6055 - accuracy: 0.6240\n",
            "Epoch 20/50\n",
            "74/74 [==============================] - 0s 2ms/step - loss: 0.6028 - accuracy: 0.6240\n",
            "Epoch 21/50\n",
            "74/74 [==============================] - 0s 2ms/step - loss: 0.6049 - accuracy: 0.6213\n",
            "Epoch 22/50\n",
            "74/74 [==============================] - 0s 2ms/step - loss: 0.6075 - accuracy: 0.6240\n",
            "Epoch 23/50\n",
            "74/74 [==============================] - 0s 2ms/step - loss: 0.6068 - accuracy: 0.6308\n",
            "Epoch 24/50\n",
            "74/74 [==============================] - 0s 2ms/step - loss: 0.6036 - accuracy: 0.6226\n",
            "Epoch 25/50\n",
            "74/74 [==============================] - 0s 2ms/step - loss: 0.6053 - accuracy: 0.6526\n",
            "Epoch 26/50\n",
            "74/74 [==============================] - 0s 2ms/step - loss: 0.6034 - accuracy: 0.6213\n",
            "Epoch 27/50\n",
            "74/74 [==============================] - 0s 2ms/step - loss: 0.6040 - accuracy: 0.6253\n",
            "Epoch 28/50\n",
            "74/74 [==============================] - 0s 2ms/step - loss: 0.5913 - accuracy: 0.6594\n",
            "Epoch 29/50\n",
            "74/74 [==============================] - 0s 2ms/step - loss: 0.6135 - accuracy: 0.6403\n",
            "Epoch 30/50\n",
            "74/74 [==============================] - 0s 2ms/step - loss: 0.5964 - accuracy: 0.6349\n",
            "Epoch 31/50\n",
            "74/74 [==============================] - 0s 2ms/step - loss: 0.5975 - accuracy: 0.6621\n",
            "Epoch 32/50\n",
            "74/74 [==============================] - 0s 2ms/step - loss: 0.5870 - accuracy: 0.6826\n",
            "Epoch 33/50\n",
            "74/74 [==============================] - 0s 2ms/step - loss: 0.5985 - accuracy: 0.6471\n",
            "Epoch 34/50\n",
            "74/74 [==============================] - 0s 2ms/step - loss: 0.5905 - accuracy: 0.6676\n",
            "Epoch 35/50\n",
            "74/74 [==============================] - 0s 2ms/step - loss: 0.5969 - accuracy: 0.6635\n",
            "Epoch 36/50\n",
            "74/74 [==============================] - 0s 2ms/step - loss: 0.5939 - accuracy: 0.6471\n",
            "Epoch 37/50\n",
            "74/74 [==============================] - 0s 2ms/step - loss: 0.5840 - accuracy: 0.6689\n",
            "Epoch 38/50\n",
            "74/74 [==============================] - 0s 2ms/step - loss: 0.6002 - accuracy: 0.6499\n",
            "Epoch 39/50\n",
            "74/74 [==============================] - 0s 2ms/step - loss: 0.6038 - accuracy: 0.6253\n",
            "Epoch 40/50\n",
            "74/74 [==============================] - 0s 2ms/step - loss: 0.6019 - accuracy: 0.6240\n",
            "Epoch 41/50\n",
            "74/74 [==============================] - 0s 2ms/step - loss: 0.5980 - accuracy: 0.6281\n",
            "Epoch 42/50\n",
            "74/74 [==============================] - 0s 2ms/step - loss: 0.5982 - accuracy: 0.6281\n",
            "Epoch 43/50\n",
            "74/74 [==============================] - 0s 2ms/step - loss: 0.6033 - accuracy: 0.6281\n",
            "Epoch 44/50\n",
            "74/74 [==============================] - 0s 2ms/step - loss: 0.5997 - accuracy: 0.6308\n",
            "Epoch 45/50\n",
            "74/74 [==============================] - 0s 2ms/step - loss: 0.6052 - accuracy: 0.6335\n",
            "Epoch 46/50\n",
            "74/74 [==============================] - 0s 2ms/step - loss: 0.5965 - accuracy: 0.6376\n",
            "Epoch 47/50\n",
            "74/74 [==============================] - 0s 2ms/step - loss: 0.5935 - accuracy: 0.6553\n",
            "Epoch 48/50\n",
            "74/74 [==============================] - 0s 2ms/step - loss: 0.5905 - accuracy: 0.6553\n",
            "Epoch 49/50\n",
            "74/74 [==============================] - 0s 2ms/step - loss: 0.5896 - accuracy: 0.6526\n",
            "Epoch 50/50\n",
            "74/74 [==============================] - 0s 2ms/step - loss: 0.5863 - accuracy: 0.6676\n",
            "3/3 [==============================] - 0s 4ms/step\n",
            "3/3 [==============================] - 0s 4ms/step\n",
            "2/2 [==============================] - 0s 4ms/step\n",
            "****** <keras.engine.sequential.Sequential object at 0x7f430b259a60> ******\n",
            "<Validation Set>\n",
            "Accuracy: 0.7141148325358851\n",
            "Avg Precision: 0.6027904627622636\n",
            "f1_score: 0.6765971156215058\n",
            "Precision: 0.6065573770491803\n",
            "Recall: 0.9736842105263158\n",
            "ROC_AUC: 0.7141148325358853\n",
            "\n",
            "\n",
            "\n"
          ]
        }
      ]
    },
    {
      "cell_type": "code",
      "source": [
        "metrics_calculate('ANN', nn_val_result[\"val_actual\"], nn_val_result[\"val_predict\"])"
      ],
      "metadata": {
        "colab": {
          "base_uri": "https://localhost:8080/"
        },
        "id": "fYjmAPjpwaq5",
        "outputId": "7bd14d00-54f6-4c22-bf8e-1c58a209aeb3"
      },
      "execution_count": 50,
      "outputs": [
        {
          "output_type": "stream",
          "name": "stdout",
          "text": [
            "ANN classification report:\n",
            "               precision    recall  f1-score   support\n",
            "\n",
            "           0       0.95      0.45      0.62        44\n",
            "           1       0.61      0.97      0.75        38\n",
            "\n",
            "    accuracy                           0.70        82\n",
            "   macro avg       0.78      0.71      0.68        82\n",
            "weighted avg       0.79      0.70      0.68        82\n",
            "\n",
            "ANN confusion_matrix:\n",
            " [[20 24]\n",
            " [ 1 37]]\n",
            "\n",
            "ANN FNR:0.02631579 FPR:0.54545455\n",
            "ANN accuracy:0.69512195\n"
          ]
        }
      ]
    },
    {
      "cell_type": "code",
      "source": [
        "calculate_defect_identified(nn_clf,full_dataset_x, full_dataset_y)"
      ],
      "metadata": {
        "colab": {
          "base_uri": "https://localhost:8080/"
        },
        "id": "WZQl-0rxwaYE",
        "outputId": "2a8fc97f-9437-4594-ed1b-9c9cb4023af3"
      },
      "execution_count": 51,
      "outputs": [
        {
          "output_type": "stream",
          "name": "stdout",
          "text": [
            "28/28 [==============================] - 0s 1ms/step\n"
          ]
        },
        {
          "output_type": "execute_result",
          "data": {
            "text/plain": [
              "0.9400479616306955"
            ]
          },
          "metadata": {},
          "execution_count": 51
        }
      ]
    },
    {
      "cell_type": "markdown",
      "source": [
        "#### CNN result"
      ],
      "metadata": {
        "id": "icTBZk182Zcf"
      }
    },
    {
      "cell_type": "code",
      "source": [
        "cnn_clf = cnn(*all_data)\n",
        "cnn_val_result, cnn_test_result = print_accuracy(cnn_clf)"
      ],
      "metadata": {
        "colab": {
          "base_uri": "https://localhost:8080/"
        },
        "id": "wQaw07cN1wqD",
        "outputId": "c79eb68b-de58-4a43-d98e-0a95088bdc2d"
      },
      "execution_count": 52,
      "outputs": [
        {
          "output_type": "stream",
          "name": "stdout",
          "text": [
            "Epoch 1/50\n",
            "23/23 [==============================] - 1s 3ms/step - loss: 638.4445 - accuracy: 0.4659\n",
            "Epoch 2/50\n",
            "23/23 [==============================] - 0s 4ms/step - loss: 22.9780 - accuracy: 0.4687\n",
            "Epoch 3/50\n",
            "23/23 [==============================] - 0s 3ms/step - loss: 15.6457 - accuracy: 0.4659\n",
            "Epoch 4/50\n",
            "23/23 [==============================] - 0s 3ms/step - loss: 19.0725 - accuracy: 0.5245\n",
            "Epoch 5/50\n",
            "23/23 [==============================] - 0s 3ms/step - loss: 18.5649 - accuracy: 0.5831\n",
            "Epoch 6/50\n",
            "23/23 [==============================] - 0s 3ms/step - loss: 20.4906 - accuracy: 0.5831\n",
            "Epoch 7/50\n",
            "23/23 [==============================] - 0s 4ms/step - loss: 13.4673 - accuracy: 0.6172\n",
            "Epoch 8/50\n",
            "23/23 [==============================] - 0s 3ms/step - loss: 5.7394 - accuracy: 0.6253\n",
            "Epoch 9/50\n",
            "23/23 [==============================] - 0s 3ms/step - loss: 8.0774 - accuracy: 0.6185\n",
            "Epoch 10/50\n",
            "23/23 [==============================] - 0s 3ms/step - loss: 13.9042 - accuracy: 0.6253\n",
            "Epoch 11/50\n",
            "23/23 [==============================] - 0s 4ms/step - loss: 12.1218 - accuracy: 0.6431\n",
            "Epoch 12/50\n",
            "23/23 [==============================] - 0s 3ms/step - loss: 19.5579 - accuracy: 0.6144\n",
            "Epoch 13/50\n",
            "23/23 [==============================] - 0s 3ms/step - loss: 10.7163 - accuracy: 0.6757\n",
            "Epoch 14/50\n",
            "23/23 [==============================] - 0s 3ms/step - loss: 21.2613 - accuracy: 0.6090\n",
            "Epoch 15/50\n",
            "23/23 [==============================] - 0s 3ms/step - loss: 12.1105 - accuracy: 0.6526\n",
            "Epoch 16/50\n",
            "23/23 [==============================] - 0s 3ms/step - loss: 24.3235 - accuracy: 0.6172\n",
            "Epoch 17/50\n",
            "23/23 [==============================] - 0s 3ms/step - loss: 27.1670 - accuracy: 0.6090\n",
            "Epoch 18/50\n",
            "23/23 [==============================] - 0s 3ms/step - loss: 10.7610 - accuracy: 0.6499\n",
            "Epoch 19/50\n",
            "23/23 [==============================] - 0s 3ms/step - loss: 18.1165 - accuracy: 0.6294\n",
            "Epoch 20/50\n",
            "23/23 [==============================] - 0s 3ms/step - loss: 9.5397 - accuracy: 0.6621\n",
            "Epoch 21/50\n",
            "23/23 [==============================] - 0s 4ms/step - loss: 19.0208 - accuracy: 0.6471\n",
            "Epoch 22/50\n",
            "23/23 [==============================] - 0s 4ms/step - loss: 44.0630 - accuracy: 0.5995\n",
            "Epoch 23/50\n",
            "23/23 [==============================] - 0s 3ms/step - loss: 17.4713 - accuracy: 0.6771\n",
            "Epoch 24/50\n",
            "23/23 [==============================] - 0s 4ms/step - loss: 6.2350 - accuracy: 0.6294\n",
            "Epoch 25/50\n",
            "23/23 [==============================] - 0s 3ms/step - loss: 11.2197 - accuracy: 0.6730\n",
            "Epoch 26/50\n",
            "23/23 [==============================] - 0s 3ms/step - loss: 22.6126 - accuracy: 0.6540\n",
            "Epoch 27/50\n",
            "23/23 [==============================] - 0s 3ms/step - loss: 7.3774 - accuracy: 0.6485\n",
            "Epoch 28/50\n",
            "23/23 [==============================] - 0s 3ms/step - loss: 15.6528 - accuracy: 0.6744\n",
            "Epoch 29/50\n",
            "23/23 [==============================] - 0s 3ms/step - loss: 12.7799 - accuracy: 0.6485\n",
            "Epoch 30/50\n",
            "23/23 [==============================] - 0s 3ms/step - loss: 8.2235 - accuracy: 0.6853\n",
            "Epoch 31/50\n",
            "23/23 [==============================] - 0s 3ms/step - loss: 4.5151 - accuracy: 0.6962\n",
            "Epoch 32/50\n",
            "23/23 [==============================] - 0s 3ms/step - loss: 2.2506 - accuracy: 0.6839\n",
            "Epoch 33/50\n",
            "23/23 [==============================] - 0s 3ms/step - loss: 7.2462 - accuracy: 0.6812\n",
            "Epoch 34/50\n",
            "23/23 [==============================] - 0s 4ms/step - loss: 8.7733 - accuracy: 0.6935\n",
            "Epoch 35/50\n",
            "23/23 [==============================] - 0s 3ms/step - loss: 3.2440 - accuracy: 0.6649\n",
            "Epoch 36/50\n",
            "23/23 [==============================] - 0s 3ms/step - loss: 5.8134 - accuracy: 0.6512\n",
            "Epoch 37/50\n",
            "23/23 [==============================] - 0s 3ms/step - loss: 6.8448 - accuracy: 0.6812\n",
            "Epoch 38/50\n",
            "23/23 [==============================] - 0s 3ms/step - loss: 4.1934 - accuracy: 0.7057\n",
            "Epoch 39/50\n",
            "23/23 [==============================] - 0s 3ms/step - loss: 5.0541 - accuracy: 0.6540\n",
            "Epoch 40/50\n",
            "23/23 [==============================] - 0s 3ms/step - loss: 3.6783 - accuracy: 0.7153\n",
            "Epoch 41/50\n",
            "23/23 [==============================] - 0s 3ms/step - loss: 3.9853 - accuracy: 0.6894\n",
            "Epoch 42/50\n",
            "23/23 [==============================] - 0s 3ms/step - loss: 5.9347 - accuracy: 0.7125\n",
            "Epoch 43/50\n",
            "23/23 [==============================] - 0s 3ms/step - loss: 4.6919 - accuracy: 0.6431\n",
            "Epoch 44/50\n",
            "23/23 [==============================] - 0s 3ms/step - loss: 6.7683 - accuracy: 0.6471\n",
            "Epoch 45/50\n",
            "23/23 [==============================] - 0s 3ms/step - loss: 13.2019 - accuracy: 0.6512\n",
            "Epoch 46/50\n",
            "23/23 [==============================] - 0s 4ms/step - loss: 8.2210 - accuracy: 0.6253\n",
            "Epoch 47/50\n",
            "23/23 [==============================] - 0s 3ms/step - loss: 6.0572 - accuracy: 0.6785\n",
            "Epoch 48/50\n",
            "23/23 [==============================] - 0s 3ms/step - loss: 10.4187 - accuracy: 0.6485\n",
            "Epoch 49/50\n",
            "23/23 [==============================] - 0s 4ms/step - loss: 12.8430 - accuracy: 0.6458\n",
            "Epoch 50/50\n",
            "23/23 [==============================] - 0s 3ms/step - loss: 3.7822 - accuracy: 0.6757\n",
            "3/3 [==============================] - 0s 3ms/step\n",
            "3/3 [==============================] - 0s 4ms/step\n",
            "2/2 [==============================] - 0s 7ms/step\n",
            "****** <keras.engine.sequential.Sequential object at 0x7f4318f86d00> ******\n",
            "<Validation Set>\n",
            "Accuracy: 0.6889952153110048\n",
            "Avg Precision: 0.6047769090131093\n",
            "f1_score: 0.6925824551294126\n",
            "Precision: 0.696969696969697\n",
            "Recall: 0.6052631578947368\n",
            "ROC_AUC: 0.6889952153110047\n",
            "\n",
            "\n",
            "\n"
          ]
        }
      ]
    },
    {
      "cell_type": "code",
      "source": [
        "metrics_calculate('CNN', cnn_val_result[\"val_actual\"], cnn_val_result[\"val_predict\"])"
      ],
      "metadata": {
        "colab": {
          "base_uri": "https://localhost:8080/"
        },
        "id": "HzbhjgGz2dOr",
        "outputId": "fe295ec7-9d0a-4ba9-f229-d7c176dd8528"
      },
      "execution_count": 53,
      "outputs": [
        {
          "output_type": "stream",
          "name": "stdout",
          "text": [
            "CNN classification report:\n",
            "               precision    recall  f1-score   support\n",
            "\n",
            "           0       0.69      0.77      0.73        44\n",
            "           1       0.70      0.61      0.65        38\n",
            "\n",
            "    accuracy                           0.70        82\n",
            "   macro avg       0.70      0.69      0.69        82\n",
            "weighted avg       0.70      0.70      0.69        82\n",
            "\n",
            "CNN confusion_matrix:\n",
            " [[34 10]\n",
            " [15 23]]\n",
            "\n",
            "CNN FNR:0.39473684 FPR:0.22727273\n",
            "CNN accuracy:0.69512195\n"
          ]
        }
      ]
    },
    {
      "cell_type": "code",
      "source": [
        "calculate_defect_identified(cnn_clf,full_dataset_x, full_dataset_y)"
      ],
      "metadata": {
        "colab": {
          "base_uri": "https://localhost:8080/"
        },
        "id": "AlC67-Yw2dCL",
        "outputId": "8d0249e9-ea07-49b5-b961-127a1169fbdb"
      },
      "execution_count": 54,
      "outputs": [
        {
          "output_type": "stream",
          "name": "stdout",
          "text": [
            "28/28 [==============================] - 0s 2ms/step\n"
          ]
        },
        {
          "output_type": "execute_result",
          "data": {
            "text/plain": [
              "0.5155875299760192"
            ]
          },
          "metadata": {},
          "execution_count": 54
        }
      ]
    },
    {
      "cell_type": "markdown",
      "source": [
        "#### XGBoost result"
      ],
      "metadata": {
        "id": "yOXaB6p3G6Sv"
      }
    },
    {
      "cell_type": "code",
      "source": [
        "xgboost_clf = XGBoost(*all_data)\n",
        "xgboost_val_result, xgboost_test_result = print_accuracy(xgboost_clf)"
      ],
      "metadata": {
        "colab": {
          "base_uri": "https://localhost:8080/"
        },
        "id": "1OIJnGn5G63f",
        "outputId": "7e3b04db-a02c-4083-97e7-5be111d59ca2"
      },
      "execution_count": 55,
      "outputs": [
        {
          "output_type": "stream",
          "name": "stdout",
          "text": [
            "[0]\tvalidation_0-error:0.170732\n",
            "Will train until validation_0-error hasn't improved in 50 rounds.\n",
            "[1]\tvalidation_0-error:0.170732\n",
            "[2]\tvalidation_0-error:0.170732\n",
            "[3]\tvalidation_0-error:0.158537\n",
            "[4]\tvalidation_0-error:0.170732\n",
            "[5]\tvalidation_0-error:0.158537\n",
            "[6]\tvalidation_0-error:0.170732\n",
            "[7]\tvalidation_0-error:0.170732\n",
            "[8]\tvalidation_0-error:0.170732\n",
            "[9]\tvalidation_0-error:0.170732\n",
            "[10]\tvalidation_0-error:0.170732\n",
            "[11]\tvalidation_0-error:0.170732\n",
            "[12]\tvalidation_0-error:0.170732\n",
            "[13]\tvalidation_0-error:0.170732\n",
            "[14]\tvalidation_0-error:0.170732\n",
            "[15]\tvalidation_0-error:0.170732\n",
            "[16]\tvalidation_0-error:0.170732\n",
            "[17]\tvalidation_0-error:0.170732\n",
            "[18]\tvalidation_0-error:0.170732\n",
            "[19]\tvalidation_0-error:0.170732\n",
            "[20]\tvalidation_0-error:0.170732\n",
            "[21]\tvalidation_0-error:0.170732\n",
            "[22]\tvalidation_0-error:0.170732\n",
            "[23]\tvalidation_0-error:0.170732\n",
            "[24]\tvalidation_0-error:0.170732\n",
            "[25]\tvalidation_0-error:0.170732\n",
            "[26]\tvalidation_0-error:0.170732\n",
            "[27]\tvalidation_0-error:0.170732\n",
            "[28]\tvalidation_0-error:0.170732\n",
            "[29]\tvalidation_0-error:0.170732\n",
            "[30]\tvalidation_0-error:0.170732\n",
            "[31]\tvalidation_0-error:0.170732\n",
            "[32]\tvalidation_0-error:0.170732\n",
            "[33]\tvalidation_0-error:0.170732\n",
            "[34]\tvalidation_0-error:0.170732\n",
            "[35]\tvalidation_0-error:0.170732\n",
            "[36]\tvalidation_0-error:0.170732\n",
            "[37]\tvalidation_0-error:0.170732\n",
            "[38]\tvalidation_0-error:0.170732\n",
            "[39]\tvalidation_0-error:0.170732\n",
            "[40]\tvalidation_0-error:0.170732\n",
            "[41]\tvalidation_0-error:0.170732\n",
            "[42]\tvalidation_0-error:0.170732\n",
            "[43]\tvalidation_0-error:0.170732\n",
            "[44]\tvalidation_0-error:0.170732\n",
            "[45]\tvalidation_0-error:0.170732\n",
            "[46]\tvalidation_0-error:0.170732\n",
            "[47]\tvalidation_0-error:0.170732\n",
            "[48]\tvalidation_0-error:0.170732\n",
            "[49]\tvalidation_0-error:0.170732\n",
            "[50]\tvalidation_0-error:0.170732\n",
            "[51]\tvalidation_0-error:0.170732\n",
            "[52]\tvalidation_0-error:0.170732\n",
            "[53]\tvalidation_0-error:0.170732\n",
            "Stopping. Best iteration:\n",
            "[3]\tvalidation_0-error:0.158537\n",
            "\n",
            "****** XGBClassifier(colsample_bytree=0.9, learning_rate=0.01, max_depth=9,\n",
            "              n_estimators=500, n_jobs=5, reg_alpha=1.1, subsample=0.9) ******\n",
            "<Validation Set>\n",
            "Accuracy: 0.8450956937799043\n",
            "Avg Precision: 0.7562468280741559\n",
            "f1_score: 0.8415813207663536\n",
            "Precision: 0.7906976744186046\n",
            "Recall: 0.8947368421052632\n",
            "ROC_AUC: 0.8450956937799043\n",
            "\n",
            "\n",
            "\n"
          ]
        }
      ]
    },
    {
      "cell_type": "code",
      "source": [
        "metrics_calculate('xgboost', xgboost_val_result[\"val_actual\"], xgboost_val_result[\"val_predict\"])"
      ],
      "metadata": {
        "colab": {
          "base_uri": "https://localhost:8080/"
        },
        "id": "c34dnEeFHiJl",
        "outputId": "f079e29f-818c-4d3b-bb83-5d33519a9d1f"
      },
      "execution_count": 56,
      "outputs": [
        {
          "output_type": "stream",
          "name": "stdout",
          "text": [
            "xgboost classification report:\n",
            "               precision    recall  f1-score   support\n",
            "\n",
            "           0       0.90      0.80      0.84        44\n",
            "           1       0.79      0.89      0.84        38\n",
            "\n",
            "    accuracy                           0.84        82\n",
            "   macro avg       0.84      0.85      0.84        82\n",
            "weighted avg       0.85      0.84      0.84        82\n",
            "\n",
            "xgboost confusion_matrix:\n",
            " [[35  9]\n",
            " [ 4 34]]\n",
            "\n",
            "xgboost FNR:0.10526316 FPR:0.20454545\n",
            "xgboost accuracy:0.84146341\n"
          ]
        }
      ]
    },
    {
      "cell_type": "markdown",
      "source": [
        "#### Defect Defected/Present(Full Dataset)"
      ],
      "metadata": {
        "id": "88S2pwILzpaz"
      }
    },
    {
      "cell_type": "code",
      "source": [
        "calculate_defect_identified(xgboost_clf,full_dataset_x, full_dataset_y)"
      ],
      "metadata": {
        "colab": {
          "base_uri": "https://localhost:8080/"
        },
        "id": "M4Ny9h9VRF1i",
        "outputId": "3a577081-eee4-4944-c6eb-d0dd24af439c"
      },
      "execution_count": 27,
      "outputs": [
        {
          "output_type": "execute_result",
          "data": {
            "text/plain": [
              "0.997404671591136"
            ]
          },
          "metadata": {},
          "execution_count": 27
        }
      ]
    },
    {
      "cell_type": "markdown",
      "source": [
        "#### SVM result"
      ],
      "metadata": {
        "id": "alkPQxO62gQ0"
      }
    },
    {
      "cell_type": "code",
      "source": [
        "svm_clf = svm(*all_data)\n",
        "svm_val_result, svm_test_result = print_accuracy(svm_clf)"
      ],
      "metadata": {
        "colab": {
          "base_uri": "https://localhost:8080/"
        },
        "id": "f1CzyMr82SLM",
        "outputId": "586ee5a6-7c06-456a-f632-29e410df59dc"
      },
      "execution_count": 57,
      "outputs": [
        {
          "output_type": "stream",
          "name": "stdout",
          "text": [
            "****** SVC(gamma='auto') ******\n",
            "<Validation Set>\n",
            "Accuracy: 0.645933014354067\n",
            "Avg Precision: 0.5499013277642596\n",
            "f1_score: 0.5812476623555581\n",
            "Precision: 0.5522388059701493\n",
            "Recall: 0.9736842105263158\n",
            "ROC_AUC: 0.6459330143540671\n",
            "\n",
            "\n",
            "\n"
          ]
        }
      ]
    },
    {
      "cell_type": "code",
      "source": [
        "metrics_calculate('SVM', svm_val_result[\"val_actual\"], svm_val_result[\"val_predict\"])"
      ],
      "metadata": {
        "colab": {
          "base_uri": "https://localhost:8080/"
        },
        "id": "CRrWvaCD5078",
        "outputId": "2c949e7a-4825-4da5-815f-18a49c8060da"
      },
      "execution_count": 58,
      "outputs": [
        {
          "output_type": "stream",
          "name": "stdout",
          "text": [
            "SVM classification report:\n",
            "               precision    recall  f1-score   support\n",
            "\n",
            "           0       0.93      0.32      0.47        44\n",
            "           1       0.55      0.97      0.70        38\n",
            "\n",
            "    accuracy                           0.62        82\n",
            "   macro avg       0.74      0.65      0.59        82\n",
            "weighted avg       0.76      0.62      0.58        82\n",
            "\n",
            "SVM confusion_matrix:\n",
            " [[14 30]\n",
            " [ 1 37]]\n",
            "\n",
            "SVM FNR:0.02631579 FPR:0.68181818\n",
            "SVM accuracy:0.62195122\n"
          ]
        }
      ]
    },
    {
      "cell_type": "code",
      "source": [
        "calculate_defect_identified(svm_clf,full_dataset_x, full_dataset_y)"
      ],
      "metadata": {
        "colab": {
          "base_uri": "https://localhost:8080/"
        },
        "id": "9UMxh1Ib50z0",
        "outputId": "7acad921-ced7-4b41-b0c2-7e5f32d8a565"
      },
      "execution_count": 59,
      "outputs": [
        {
          "output_type": "execute_result",
          "data": {
            "text/plain": [
              "0.9952038369304557"
            ]
          },
          "metadata": {},
          "execution_count": 59
        }
      ]
    },
    {
      "cell_type": "markdown",
      "source": [
        "#### Random forest result"
      ],
      "metadata": {
        "id": "LWNdtUGU2j-W"
      }
    },
    {
      "cell_type": "code",
      "source": [
        "rf_clf = random_forest(*all_data)\n",
        "rf_val_result, rf_test_result = print_accuracy(rf_clf)"
      ],
      "metadata": {
        "colab": {
          "base_uri": "https://localhost:8080/"
        },
        "id": "cKXxq5Ds2U1t",
        "outputId": "f7b57695-e40e-4146-c68d-55f07bd7db46"
      },
      "execution_count": 60,
      "outputs": [
        {
          "output_type": "stream",
          "name": "stdout",
          "text": [
            "****** RandomForestClassifier(max_depth=5, random_state=0) ******\n",
            "<Validation Set>\n",
            "Accuracy: 0.8845693779904307\n",
            "Avg Precision: 0.7953758999832562\n",
            "f1_score: 0.8777584204413473\n",
            "Precision: 0.8043478260869565\n",
            "Recall: 0.9736842105263158\n",
            "ROC_AUC: 0.8845693779904307\n",
            "\n",
            "\n",
            "\n"
          ]
        }
      ]
    },
    {
      "cell_type": "code",
      "source": [
        "metrics_calculate('Random Forest', rf_val_result[\"val_actual\"], rf_val_result[\"val_predict\"])"
      ],
      "metadata": {
        "colab": {
          "base_uri": "https://localhost:8080/"
        },
        "id": "mSYTRt3l6N5U",
        "outputId": "d793551d-737e-4818-920d-594377173a89"
      },
      "execution_count": 61,
      "outputs": [
        {
          "output_type": "stream",
          "name": "stdout",
          "text": [
            "Random Forest classification report:\n",
            "               precision    recall  f1-score   support\n",
            "\n",
            "           0       0.97      0.80      0.88        44\n",
            "           1       0.80      0.97      0.88        38\n",
            "\n",
            "    accuracy                           0.88        82\n",
            "   macro avg       0.89      0.88      0.88        82\n",
            "weighted avg       0.89      0.88      0.88        82\n",
            "\n",
            "Random Forest confusion_matrix:\n",
            " [[35  9]\n",
            " [ 1 37]]\n",
            "\n",
            "Random Forest FNR:0.02631579 FPR:0.20454545\n",
            "Random Forest accuracy:0.87804878\n"
          ]
        }
      ]
    },
    {
      "cell_type": "code",
      "source": [
        "calculate_defect_identified(rf_clf,full_dataset_x, full_dataset_y)"
      ],
      "metadata": {
        "colab": {
          "base_uri": "https://localhost:8080/"
        },
        "id": "JPRAUF-L6OWr",
        "outputId": "e1a9372f-3c0a-4539-9da2-3480903dc291"
      },
      "execution_count": 62,
      "outputs": [
        {
          "output_type": "execute_result",
          "data": {
            "text/plain": [
              "0.988009592326139"
            ]
          },
          "metadata": {},
          "execution_count": 62
        }
      ]
    },
    {
      "cell_type": "markdown",
      "source": [
        "#### Concat results"
      ],
      "metadata": {
        "id": "uA3-nveN2tLz"
      }
    },
    {
      "cell_type": "code",
      "source": [
        "new_val_set_x = pd.concat([svm_val_result['val_predict'],rf_val_result['val_predict'],nn_val_result['val_predict'],cnn_val_result['val_predict'],xgboost_val_result['val_predict']],axis=1)\n",
        "new_val_set_x_matrix = new_val_set_x.values\n",
        "new_val_set_y_matrix = svm_val_result['val_actual'].values\n",
        "\n",
        "new_test_set_x = pd.concat([svm_test_result['test_predict'],rf_test_result['test_predict'],nn_test_result['test_predict'],cnn_test_result['test_predict'], xgboost_test_result['test_predict']],axis=1)\n",
        "new_test_set_x_matrix = new_test_set_x.values\n",
        "new_test_set_y_matrix = svm_test_result['test_actual'].values"
      ],
      "metadata": {
        "id": "oEEqyfjt2sZE"
      },
      "execution_count": 63,
      "outputs": []
    },
    {
      "cell_type": "markdown",
      "source": [
        "#### Utility"
      ],
      "metadata": {
        "id": "vlD9xwTn7v_l"
      }
    },
    {
      "cell_type": "code",
      "source": [
        "def send_classifiers_to_LR_file():\n",
        "    return nn_clf ,cnn_clf, svm_clf, rf_clf, xgboost_clf\n",
        "\n",
        "from sklearn.linear_model import LogisticRegression\n",
        "\n",
        "def send_results_to_logistic_regression():\n",
        "    clf = LogisticRegression(random_state=0)\n",
        "    clf.fit(new_val_set_x_matrix , new_val_set_y_matrix)\n",
        "    return clf, new_val_set_x_matrix"
      ],
      "metadata": {
        "id": "BAzjhh4zt7Ap"
      },
      "execution_count": 66,
      "outputs": []
    },
    {
      "cell_type": "markdown",
      "source": [
        "## Evaluation"
      ],
      "metadata": {
        "id": "ciA4dfzst7Ar"
      }
    },
    {
      "cell_type": "code",
      "source": [
        "import pandas as pd\n",
        "\n",
        "from sklearn.metrics import *\n",
        "data = '/content/data/kc1.csv'\n",
        "original_data, original_X, original_Y,combined_training_data,x_train1,x_train2,x_train,x_test,x_val,y_train1,y_train2,y_train,y_test,y_val = data_preprocessor(data)\n",
        "all_data = [original_data, original_X, original_Y,combined_training_data,x_train1,x_train2,x_train,x_test,x_val,y_train1,y_train2,y_train,y_test,y_val]\n",
        "\n",
        "nn_clf, cnn_clf, svm_clf, rf_clf, xgboost_clf = send_classifiers_to_LR_file()\n",
        "log_reg_clf, new_val_set_x_matrix = send_results_to_logistic_regression()\n",
        "\n",
        "prediction = log_reg_clf.predict(new_val_set_x_matrix)\n",
        "print('Accuracy:',accuracy_score(y_val.values,prediction))"
      ],
      "metadata": {
        "colab": {
          "base_uri": "https://localhost:8080/",
          "height": 381
        },
        "id": "-ZCM3Hltt7At",
        "outputId": "928f971e-899b-4ccb-cd44-ed48a746bbc8"
      },
      "execution_count": 67,
      "outputs": [
        {
          "output_type": "stream",
          "name": "stdout",
          "text": [
            "Accuracy: 0.9024390243902439\n"
          ]
        },
        {
          "output_type": "display_data",
          "data": {
            "text/plain": [
              "<Figure size 432x288 with 2 Axes>"
            ],
            "image/png": "[encoded data removed]"
          },
          "metadata": {
            "needs_background": "light"
          }
        }
      ]
    },
    {
      "cell_type": "code",
      "source": [],
      "metadata": {
        "id": "KotoAejLecHy"
      },
      "execution_count": null,
      "outputs": []
    }
  ]
}